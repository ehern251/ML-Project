{
 "cells": [
  {
   "cell_type": "code",
   "execution_count": 1,
   "metadata": {},
   "outputs": [],
   "source": [
    "import re\n",
    "import nltk\n",
    "from sklearn import svm\n",
    "from nltk.corpus import stopwords\n",
    "from nltk.tokenize import word_tokenize \n",
    "from sklearn.feature_extraction.text import TfidfVectorizer\n",
    "from google_trans_new import google_translator  \n",
    "from sklearn.linear_model import LogisticRegression\n",
    "from sklearn.model_selection import train_test_split\n",
    "from sklearn.model_selection import cross_val_score\n",
    "from sklearn.metrics import accuracy_score\n",
    "from sklearn import metrics\n",
    "import matplotlib.pyplot as plt\n",
    "import numpy as np\n",
    "import pandas as pd"
   ]
  },
  {
   "cell_type": "code",
   "execution_count": 2,
   "metadata": {},
   "outputs": [
    {
     "data": {
      "text/html": [
       "<div>\n",
       "<style scoped>\n",
       "    .dataframe tbody tr th:only-of-type {\n",
       "        vertical-align: middle;\n",
       "    }\n",
       "\n",
       "    .dataframe tbody tr th {\n",
       "        vertical-align: top;\n",
       "    }\n",
       "\n",
       "    .dataframe thead th {\n",
       "        text-align: right;\n",
       "    }\n",
       "</style>\n",
       "<table border=\"1\" class=\"dataframe\">\n",
       "  <thead>\n",
       "    <tr style=\"text-align: right;\">\n",
       "      <th></th>\n",
       "      <th>username</th>\n",
       "      <th>review_type</th>\n",
       "      <th>published_date</th>\n",
       "      <th>score</th>\n",
       "      <th>votes</th>\n",
       "      <th>review_text</th>\n",
       "      <th>profile_url</th>\n",
       "      <th>platform</th>\n",
       "    </tr>\n",
       "  </thead>\n",
       "  <tbody>\n",
       "    <tr>\n",
       "      <th>0</th>\n",
       "      <td>Fen1ma</td>\n",
       "      <td>user</td>\n",
       "      <td>Aug 26, 2020</td>\n",
       "      <td>6.0</td>\n",
       "      <td>0.0</td>\n",
       "      <td>на данный момент не советую покупать игру, ещё...</td>\n",
       "      <td>https://www.metacritic.com/user/Fen1ma</td>\n",
       "      <td>pc</td>\n",
       "    </tr>\n",
       "    <tr>\n",
       "      <th>1</th>\n",
       "      <td>Locke_VI</td>\n",
       "      <td>user</td>\n",
       "      <td>Aug 25, 2020</td>\n",
       "      <td>3.0</td>\n",
       "      <td>0.0</td>\n",
       "      <td>Fall Guys was a game I was really looking forw...</td>\n",
       "      <td>https://www.metacritic.com/user/Locke_VI</td>\n",
       "      <td>pc</td>\n",
       "    </tr>\n",
       "    <tr>\n",
       "      <th>2</th>\n",
       "      <td>Crisener</td>\n",
       "      <td>user</td>\n",
       "      <td>Aug 25, 2020</td>\n",
       "      <td>8.0</td>\n",
       "      <td>0.0</td>\n",
       "      <td>You gotta love it. The aesthetics are very col...</td>\n",
       "      <td>https://www.metacritic.com/user/Crisener</td>\n",
       "      <td>pc</td>\n",
       "    </tr>\n",
       "    <tr>\n",
       "      <th>3</th>\n",
       "      <td>EnigmaXtreme</td>\n",
       "      <td>user</td>\n",
       "      <td>Aug 25, 2020</td>\n",
       "      <td>7.0</td>\n",
       "      <td>0.0</td>\n",
       "      <td>When we covered Fall Guys last week during it’...</td>\n",
       "      <td>https://www.metacritic.com/user/EnigmaXtreme</td>\n",
       "      <td>pc</td>\n",
       "    </tr>\n",
       "    <tr>\n",
       "      <th>4</th>\n",
       "      <td>nitorita</td>\n",
       "      <td>user</td>\n",
       "      <td>Aug 23, 2020</td>\n",
       "      <td>7.0</td>\n",
       "      <td>0.0</td>\n",
       "      <td>I like how Fall Guys adapted Mario Party and m...</td>\n",
       "      <td>https://www.metacritic.com/user/nitorita</td>\n",
       "      <td>pc</td>\n",
       "    </tr>\n",
       "  </tbody>\n",
       "</table>\n",
       "</div>"
      ],
      "text/plain": [
       "       username review_type published_date  score  votes  \\\n",
       "0        Fen1ma        user   Aug 26, 2020    6.0    0.0   \n",
       "1      Locke_VI        user   Aug 25, 2020    3.0    0.0   \n",
       "2      Crisener        user   Aug 25, 2020    8.0    0.0   \n",
       "3  EnigmaXtreme        user   Aug 25, 2020    7.0    0.0   \n",
       "4      nitorita        user   Aug 23, 2020    7.0    0.0   \n",
       "\n",
       "                                         review_text  \\\n",
       "0  на данный момент не советую покупать игру, ещё...   \n",
       "1  Fall Guys was a game I was really looking forw...   \n",
       "2  You gotta love it. The aesthetics are very col...   \n",
       "3  When we covered Fall Guys last week during it’...   \n",
       "4  I like how Fall Guys adapted Mario Party and m...   \n",
       "\n",
       "                                    profile_url platform  \n",
       "0        https://www.metacritic.com/user/Fen1ma       pc  \n",
       "1      https://www.metacritic.com/user/Locke_VI       pc  \n",
       "2      https://www.metacritic.com/user/Crisener       pc  \n",
       "3  https://www.metacritic.com/user/EnigmaXtreme       pc  \n",
       "4      https://www.metacritic.com/user/nitorita       pc  "
      ]
     },
     "execution_count": 2,
     "metadata": {},
     "output_type": "execute_result"
    }
   ],
   "source": [
    "fg_df = pd.read_csv('D:/Users/ehern/Desktop/Machine Learning/Project/fall_guys_metacritic_reviews.csv')\n",
    "\n",
    "fg_df.head()"
   ]
  },
  {
   "cell_type": "code",
   "execution_count": 3,
   "metadata": {},
   "outputs": [],
   "source": [
    "fg_df.drop(columns=['username','review_type','published_date','published_date', 'votes', 'profile_url', 'platform'],inplace=True)"
   ]
  },
  {
   "cell_type": "code",
   "execution_count": 4,
   "metadata": {},
   "outputs": [],
   "source": [
    "noNull = fg_df.dropna()"
   ]
  },
  {
   "cell_type": "code",
   "execution_count": 5,
   "metadata": {},
   "outputs": [],
   "source": [
    "# for i in noNull['review_text']:\n",
    "#     detector = google_translator()  \n",
    "#     detect_result = detector.detect(i)\n",
    "#     print(detect_result)"
   ]
  },
  {
   "cell_type": "code",
   "execution_count": 6,
   "metadata": {},
   "outputs": [
    {
     "name": "stderr",
     "output_type": "stream",
     "text": [
      "C:\\Users\\ehern\\anaconda3\\lib\\site-packages\\pandas\\core\\frame.py:4166: SettingWithCopyWarning: \n",
      "A value is trying to be set on a copy of a slice from a DataFrame\n",
      "\n",
      "See the caveats in the documentation: https://pandas.pydata.org/pandas-docs/stable/user_guide/indexing.html#returning-a-view-versus-a-copy\n",
      "  return super().replace(\n"
     ]
    },
    {
     "data": {
      "text/html": [
       "<div>\n",
       "<style scoped>\n",
       "    .dataframe tbody tr th:only-of-type {\n",
       "        vertical-align: middle;\n",
       "    }\n",
       "\n",
       "    .dataframe tbody tr th {\n",
       "        vertical-align: top;\n",
       "    }\n",
       "\n",
       "    .dataframe thead th {\n",
       "        text-align: right;\n",
       "    }\n",
       "</style>\n",
       "<table border=\"1\" class=\"dataframe\">\n",
       "  <thead>\n",
       "    <tr style=\"text-align: right;\">\n",
       "      <th></th>\n",
       "      <th>score</th>\n",
       "      <th>review_text</th>\n",
       "    </tr>\n",
       "  </thead>\n",
       "  <tbody>\n",
       "    <tr>\n",
       "      <th>0</th>\n",
       "      <td>6.0</td>\n",
       "      <td>At the moment I do not advise you to buy the g...</td>\n",
       "    </tr>\n",
       "    <tr>\n",
       "      <th>1</th>\n",
       "      <td>3.0</td>\n",
       "      <td>Fall Guys was a game I was really looking forw...</td>\n",
       "    </tr>\n",
       "    <tr>\n",
       "      <th>2</th>\n",
       "      <td>8.0</td>\n",
       "      <td>You gotta love it. The aesthetics are very col...</td>\n",
       "    </tr>\n",
       "    <tr>\n",
       "      <th>3</th>\n",
       "      <td>7.0</td>\n",
       "      <td>When we covered Fall Guys last week during it’...</td>\n",
       "    </tr>\n",
       "    <tr>\n",
       "      <th>4</th>\n",
       "      <td>7.0</td>\n",
       "      <td>I like how Fall Guys adapted Mario Party and m...</td>\n",
       "    </tr>\n",
       "    <tr>\n",
       "      <th>...</th>\n",
       "      <td>...</td>\n",
       "      <td>...</td>\n",
       "    </tr>\n",
       "    <tr>\n",
       "      <th>349</th>\n",
       "      <td>1.0</td>\n",
       "      <td>Fall guys is a great game that is destroyed by...</td>\n",
       "    </tr>\n",
       "    <tr>\n",
       "      <th>350</th>\n",
       "      <td>9.0</td>\n",
       "      <td>Simple and fun, very easy to understand gamepl...</td>\n",
       "    </tr>\n",
       "    <tr>\n",
       "      <th>351</th>\n",
       "      <td>8.0</td>\n",
       "      <td>HIVALLY FOR ALL ages, and when you only have a...</td>\n",
       "    </tr>\n",
       "    <tr>\n",
       "      <th>352</th>\n",
       "      <td>9.0</td>\n",
       "      <td>This game is fun but when you play with friend...</td>\n",
       "    </tr>\n",
       "    <tr>\n",
       "      <th>353</th>\n",
       "      <td>9.0</td>\n",
       "      <td>Awesome! It's a lot of fun and laugh! I'm worr...</td>\n",
       "    </tr>\n",
       "  </tbody>\n",
       "</table>\n",
       "<p>329 rows × 2 columns</p>\n",
       "</div>"
      ],
      "text/plain": [
       "     score                                        review_text\n",
       "0      6.0  At the moment I do not advise you to buy the g...\n",
       "1      3.0  Fall Guys was a game I was really looking forw...\n",
       "2      8.0  You gotta love it. The aesthetics are very col...\n",
       "3      7.0  When we covered Fall Guys last week during it’...\n",
       "4      7.0  I like how Fall Guys adapted Mario Party and m...\n",
       "..     ...                                                ...\n",
       "349    1.0  Fall guys is a great game that is destroyed by...\n",
       "350    9.0  Simple and fun, very easy to understand gamepl...\n",
       "351    8.0  HIVALLY FOR ALL ages, and when you only have a...\n",
       "352    9.0  This game is fun but when you play with friend...\n",
       "353    9.0  Awesome! It's a lot of fun and laugh! I'm worr...\n",
       "\n",
       "[329 rows x 2 columns]"
      ]
     },
     "execution_count": 6,
     "metadata": {},
     "output_type": "execute_result"
    }
   ],
   "source": [
    "translations = {}\n",
    "for i in noNull['review_text']:\n",
    "    translator = google_translator()\n",
    "    translations[i] = translator.translate(i, lang_tgt='en')\n",
    "    \n",
    "noNull.replace(translations, inplace = True)\n",
    "\n",
    "# check translation\n",
    "noNull"
   ]
  },
  {
   "cell_type": "code",
   "execution_count": 7,
   "metadata": {},
   "outputs": [],
   "source": [
    "translated_df = noNull.copy()"
   ]
  },
  {
   "cell_type": "code",
   "execution_count": 8,
   "metadata": {},
   "outputs": [
    {
     "data": {
      "text/plain": [
       "score          0\n",
       "review_text    0\n",
       "dtype: int64"
      ]
     },
     "execution_count": 8,
     "metadata": {},
     "output_type": "execute_result"
    }
   ],
   "source": [
    "translated_df.isnull().sum()"
   ]
  },
  {
   "cell_type": "code",
   "execution_count": 9,
   "metadata": {},
   "outputs": [
    {
     "data": {
      "text/html": [
       "<div>\n",
       "<style scoped>\n",
       "    .dataframe tbody tr th:only-of-type {\n",
       "        vertical-align: middle;\n",
       "    }\n",
       "\n",
       "    .dataframe tbody tr th {\n",
       "        vertical-align: top;\n",
       "    }\n",
       "\n",
       "    .dataframe thead th {\n",
       "        text-align: right;\n",
       "    }\n",
       "</style>\n",
       "<table border=\"1\" class=\"dataframe\">\n",
       "  <thead>\n",
       "    <tr style=\"text-align: right;\">\n",
       "      <th></th>\n",
       "      <th>score</th>\n",
       "    </tr>\n",
       "  </thead>\n",
       "  <tbody>\n",
       "    <tr>\n",
       "      <th>count</th>\n",
       "      <td>329.000000</td>\n",
       "    </tr>\n",
       "    <tr>\n",
       "      <th>mean</th>\n",
       "      <td>6.802432</td>\n",
       "    </tr>\n",
       "    <tr>\n",
       "      <th>std</th>\n",
       "      <td>3.340512</td>\n",
       "    </tr>\n",
       "    <tr>\n",
       "      <th>min</th>\n",
       "      <td>0.000000</td>\n",
       "    </tr>\n",
       "    <tr>\n",
       "      <th>25%</th>\n",
       "      <td>5.000000</td>\n",
       "    </tr>\n",
       "    <tr>\n",
       "      <th>50%</th>\n",
       "      <td>8.000000</td>\n",
       "    </tr>\n",
       "    <tr>\n",
       "      <th>75%</th>\n",
       "      <td>10.000000</td>\n",
       "    </tr>\n",
       "    <tr>\n",
       "      <th>max</th>\n",
       "      <td>10.000000</td>\n",
       "    </tr>\n",
       "  </tbody>\n",
       "</table>\n",
       "</div>"
      ],
      "text/plain": [
       "            score\n",
       "count  329.000000\n",
       "mean     6.802432\n",
       "std      3.340512\n",
       "min      0.000000\n",
       "25%      5.000000\n",
       "50%      8.000000\n",
       "75%     10.000000\n",
       "max     10.000000"
      ]
     },
     "execution_count": 9,
     "metadata": {},
     "output_type": "execute_result"
    }
   ],
   "source": [
    "translated_df.describe()"
   ]
  },
  {
   "cell_type": "code",
   "execution_count": 10,
   "metadata": {},
   "outputs": [
    {
     "data": {
      "text/plain": [
       "10.0    83\n",
       "8.0     61\n",
       "9.0     50\n",
       "0.0     34\n",
       "7.0     26\n",
       "6.0     20\n",
       "5.0     15\n",
       "2.0     12\n",
       "1.0     11\n",
       "3.0     10\n",
       "4.0      7\n",
       "Name: score, dtype: int64"
      ]
     },
     "execution_count": 10,
     "metadata": {},
     "output_type": "execute_result"
    }
   ],
   "source": [
    "translated_df['score'].value_counts()"
   ]
  },
  {
   "cell_type": "code",
   "execution_count": 11,
   "metadata": {},
   "outputs": [],
   "source": [
    "translated_df['review_text'] = translated_df['review_text'].str.replace('[^\\w\\s]','')"
   ]
  },
  {
   "cell_type": "code",
   "execution_count": 12,
   "metadata": {},
   "outputs": [],
   "source": [
    "translated_df['review_text'] = translated_df['review_text'].str.lower()"
   ]
  },
  {
   "cell_type": "code",
   "execution_count": 13,
   "metadata": {},
   "outputs": [
    {
     "data": {
      "text/html": [
       "<div>\n",
       "<style scoped>\n",
       "    .dataframe tbody tr th:only-of-type {\n",
       "        vertical-align: middle;\n",
       "    }\n",
       "\n",
       "    .dataframe tbody tr th {\n",
       "        vertical-align: top;\n",
       "    }\n",
       "\n",
       "    .dataframe thead th {\n",
       "        text-align: right;\n",
       "    }\n",
       "</style>\n",
       "<table border=\"1\" class=\"dataframe\">\n",
       "  <thead>\n",
       "    <tr style=\"text-align: right;\">\n",
       "      <th></th>\n",
       "      <th>score</th>\n",
       "      <th>review_text</th>\n",
       "    </tr>\n",
       "  </thead>\n",
       "  <tbody>\n",
       "    <tr>\n",
       "      <th>0</th>\n",
       "      <td>6.0</td>\n",
       "      <td>at the moment i do not advise you to buy the g...</td>\n",
       "    </tr>\n",
       "    <tr>\n",
       "      <th>1</th>\n",
       "      <td>3.0</td>\n",
       "      <td>fall guys was a game i was really looking forw...</td>\n",
       "    </tr>\n",
       "    <tr>\n",
       "      <th>2</th>\n",
       "      <td>8.0</td>\n",
       "      <td>you gotta love it the aesthetics are very colo...</td>\n",
       "    </tr>\n",
       "    <tr>\n",
       "      <th>3</th>\n",
       "      <td>7.0</td>\n",
       "      <td>when we covered fall guys last week during its...</td>\n",
       "    </tr>\n",
       "    <tr>\n",
       "      <th>4</th>\n",
       "      <td>7.0</td>\n",
       "      <td>i like how fall guys adapted mario party and m...</td>\n",
       "    </tr>\n",
       "  </tbody>\n",
       "</table>\n",
       "</div>"
      ],
      "text/plain": [
       "   score                                        review_text\n",
       "0    6.0  at the moment i do not advise you to buy the g...\n",
       "1    3.0  fall guys was a game i was really looking forw...\n",
       "2    8.0  you gotta love it the aesthetics are very colo...\n",
       "3    7.0  when we covered fall guys last week during its...\n",
       "4    7.0  i like how fall guys adapted mario party and m..."
      ]
     },
     "execution_count": 13,
     "metadata": {},
     "output_type": "execute_result"
    }
   ],
   "source": [
    "translated_df.head()"
   ]
  },
  {
   "cell_type": "code",
   "execution_count": 14,
   "metadata": {},
   "outputs": [],
   "source": [
    "import re\n",
    "import nltk\n",
    "from nltk.corpus import stopwords\n",
    "from nltk.tokenize import word_tokenize \n",
    "from sklearn.feature_extraction.text import TfidfVectorizer"
   ]
  },
  {
   "cell_type": "code",
   "execution_count": 15,
   "metadata": {},
   "outputs": [
    {
     "data": {
      "text/html": [
       "<div>\n",
       "<style scoped>\n",
       "    .dataframe tbody tr th:only-of-type {\n",
       "        vertical-align: middle;\n",
       "    }\n",
       "\n",
       "    .dataframe tbody tr th {\n",
       "        vertical-align: top;\n",
       "    }\n",
       "\n",
       "    .dataframe thead th {\n",
       "        text-align: right;\n",
       "    }\n",
       "</style>\n",
       "<table border=\"1\" class=\"dataframe\">\n",
       "  <thead>\n",
       "    <tr style=\"text-align: right;\">\n",
       "      <th></th>\n",
       "      <th>score</th>\n",
       "      <th>review_text</th>\n",
       "    </tr>\n",
       "  </thead>\n",
       "  <tbody>\n",
       "    <tr>\n",
       "      <th>0</th>\n",
       "      <td>6.0</td>\n",
       "      <td>[at, the, moment, i, do, not, advise, you, to,...</td>\n",
       "    </tr>\n",
       "    <tr>\n",
       "      <th>1</th>\n",
       "      <td>3.0</td>\n",
       "      <td>[fall, guys, was, a, game, i, was, really, loo...</td>\n",
       "    </tr>\n",
       "    <tr>\n",
       "      <th>2</th>\n",
       "      <td>8.0</td>\n",
       "      <td>[you, gotta, love, it, the, aesthetics, are, v...</td>\n",
       "    </tr>\n",
       "    <tr>\n",
       "      <th>3</th>\n",
       "      <td>7.0</td>\n",
       "      <td>[when, we, covered, fall, guys, last, week, du...</td>\n",
       "    </tr>\n",
       "    <tr>\n",
       "      <th>4</th>\n",
       "      <td>7.0</td>\n",
       "      <td>[i, like, how, fall, guys, adapted, mario, par...</td>\n",
       "    </tr>\n",
       "  </tbody>\n",
       "</table>\n",
       "</div>"
      ],
      "text/plain": [
       "   score                                        review_text\n",
       "0    6.0  [at, the, moment, i, do, not, advise, you, to,...\n",
       "1    3.0  [fall, guys, was, a, game, i, was, really, loo...\n",
       "2    8.0  [you, gotta, love, it, the, aesthetics, are, v...\n",
       "3    7.0  [when, we, covered, fall, guys, last, week, du...\n",
       "4    7.0  [i, like, how, fall, guys, adapted, mario, par..."
      ]
     },
     "execution_count": 15,
     "metadata": {},
     "output_type": "execute_result"
    }
   ],
   "source": [
    "def tokenize(text):\n",
    "    tokens = re.split('\\W+', str(text))\n",
    "    return tokens\n",
    "\n",
    "translated_df['review_text'] = translated_df['review_text'].apply(lambda w: tokenize(w))\n",
    "translated_df.head()"
   ]
  },
  {
   "cell_type": "code",
   "execution_count": 16,
   "metadata": {},
   "outputs": [
    {
     "data": {
      "text/html": [
       "<div>\n",
       "<style scoped>\n",
       "    .dataframe tbody tr th:only-of-type {\n",
       "        vertical-align: middle;\n",
       "    }\n",
       "\n",
       "    .dataframe tbody tr th {\n",
       "        vertical-align: top;\n",
       "    }\n",
       "\n",
       "    .dataframe thead th {\n",
       "        text-align: right;\n",
       "    }\n",
       "</style>\n",
       "<table border=\"1\" class=\"dataframe\">\n",
       "  <thead>\n",
       "    <tr style=\"text-align: right;\">\n",
       "      <th></th>\n",
       "      <th>score</th>\n",
       "      <th>review_text</th>\n",
       "    </tr>\n",
       "  </thead>\n",
       "  <tbody>\n",
       "    <tr>\n",
       "      <th>0</th>\n",
       "      <td>6.0</td>\n",
       "      <td>[moment, advise, buy, game, still, raw, br, mi...</td>\n",
       "    </tr>\n",
       "    <tr>\n",
       "      <th>1</th>\n",
       "      <td>3.0</td>\n",
       "      <td>[fall, guys, game, really, looking, forward, f...</td>\n",
       "    </tr>\n",
       "    <tr>\n",
       "      <th>2</th>\n",
       "      <td>8.0</td>\n",
       "      <td>[gotta, love, aesthetics, colorful, charming, ...</td>\n",
       "    </tr>\n",
       "    <tr>\n",
       "      <th>3</th>\n",
       "      <td>7.0</td>\n",
       "      <td>[covered, fall, guys, last, week, beta, talked...</td>\n",
       "    </tr>\n",
       "    <tr>\n",
       "      <th>4</th>\n",
       "      <td>7.0</td>\n",
       "      <td>[like, fall, guys, adapted, mario, party, made...</td>\n",
       "    </tr>\n",
       "  </tbody>\n",
       "</table>\n",
       "</div>"
      ],
      "text/plain": [
       "   score                                        review_text\n",
       "0    6.0  [moment, advise, buy, game, still, raw, br, mi...\n",
       "1    3.0  [fall, guys, game, really, looking, forward, f...\n",
       "2    8.0  [gotta, love, aesthetics, colorful, charming, ...\n",
       "3    7.0  [covered, fall, guys, last, week, beta, talked...\n",
       "4    7.0  [like, fall, guys, adapted, mario, party, made..."
      ]
     },
     "execution_count": 16,
     "metadata": {},
     "output_type": "execute_result"
    }
   ],
   "source": [
    "stopwords = nltk.corpus.stopwords.words('english')\n",
    "def removeStopWords(text):\n",
    "    cleanText = [w for w in text if w not in stopwords]\n",
    "    return cleanText\n",
    "\n",
    "translated_df['review_text'] = translated_df['review_text'].apply(lambda w: removeStopWords(w))\n",
    "translated_df.head()"
   ]
  },
  {
   "cell_type": "code",
   "execution_count": 17,
   "metadata": {},
   "outputs": [],
   "source": [
    "# def listToString(text): \n",
    "#     str1 = \" \" \n",
    "#     return (str1.join(text))\n",
    "        \n",
    "# translated_df['review_text'] = translated_df['review_text'].apply(lambda w: listToString(w))\n",
    "# translated_df.head()"
   ]
  },
  {
   "cell_type": "code",
   "execution_count": 18,
   "metadata": {},
   "outputs": [],
   "source": [
    "# vectorizer = TfidfVectorizer()"
   ]
  },
  {
   "cell_type": "code",
   "execution_count": 19,
   "metadata": {},
   "outputs": [],
   "source": [
    "import gensim"
   ]
  },
  {
   "cell_type": "code",
   "execution_count": 20,
   "metadata": {},
   "outputs": [],
   "source": [
    "# X = vectorizer.fit_transform(translated_df['review_text'])\n",
    "# y = translated_df['score']"
   ]
  },
  {
   "cell_type": "code",
   "execution_count": 21,
   "metadata": {},
   "outputs": [],
   "source": [
    "# from nltk.corpus import brown\n",
    "# model = gensim.models.Word2Vec(brown.sents())"
   ]
  },
  {
   "cell_type": "code",
   "execution_count": 22,
   "metadata": {},
   "outputs": [],
   "source": [
    "from gensim.models import Word2Vec\n",
    "\n",
    "model = Word2Vec(translated_df['review_text'], vector_size = 329, min_count=1, workers=4)"
   ]
  },
  {
   "cell_type": "code",
   "execution_count": 23,
   "metadata": {},
   "outputs": [],
   "source": [
    "model.save('brown.embedding')\n",
    "new_model = gensim.models.Word2Vec.load('brown.embedding')"
   ]
  },
  {
   "cell_type": "code",
   "execution_count": 24,
   "metadata": {},
   "outputs": [],
   "source": [
    "# print(similar_words)"
   ]
  },
  {
   "cell_type": "code",
   "execution_count": 47,
   "metadata": {
    "scrolled": true
   },
   "outputs": [],
   "source": [
    "X = np.array(new_model.wv['bad'], dtype=float).reshape(-1, 1)\n",
    "y = translated_df['score']\n",
    "# y = translated_df['score']"
   ]
  },
  {
   "cell_type": "code",
   "execution_count": 48,
   "metadata": {},
   "outputs": [
    {
     "data": {
      "text/plain": [
       "(329,)"
      ]
     },
     "execution_count": 48,
     "metadata": {},
     "output_type": "execute_result"
    }
   ],
   "source": [
    "X.shape"
   ]
  },
  {
   "cell_type": "code",
   "execution_count": 49,
   "metadata": {},
   "outputs": [
    {
     "data": {
      "text/plain": [
       "(329,)"
      ]
     },
     "execution_count": 49,
     "metadata": {},
     "output_type": "execute_result"
    }
   ],
   "source": [
    "y.shape"
   ]
  },
  {
   "cell_type": "code",
   "execution_count": 50,
   "metadata": {},
   "outputs": [],
   "source": [
    "def get_score(model, X_train, X_test, y_train, y_test):\n",
    "    model.fit(X_train, y_train)\n",
    "    y_predict = model.predict(X_test)\n",
    "    accuracy = accuracy_score(y_test, y_predict)\n",
    "    return accuracy"
   ]
  },
  {
   "cell_type": "code",
   "execution_count": 51,
   "metadata": {},
   "outputs": [
    {
     "ename": "ValueError",
     "evalue": "Expected 2D array, got 1D array instead:\narray=[-5.63855888e-03 -1.71760411e-03  5.08151716e-03 -5.84507314e-03\n  2.48045870e-03 -1.19174300e-02 -6.44919463e-03 -4.86574788e-03\n  3.84467491e-03 -6.48372667e-03  8.37015250e-05  4.78749303e-03\n -5.47698606e-03 -6.24768995e-03 -4.92127566e-03  7.03952461e-03\n -7.20075704e-03 -2.94243870e-03  2.49006553e-03 -2.97569670e-03\n  1.22954766e-03  5.81780029e-03  6.44995482e-04  2.39688228e-03\n -1.30235590e-03 -2.27511744e-03 -8.85553382e-05 -7.71147851e-03\n  9.66342224e-04 -9.75726289e-04  1.35125527e-02  2.17120233e-03\n -3.39118857e-03  1.21005194e-03  1.22184921e-02  8.32272787e-03\n -7.01932237e-04  8.18643533e-03 -7.28494488e-03  2.32055341e-03\n -6.53453823e-03  8.35912488e-03  1.06068710e-02 -4.84854029e-03\n -8.86216294e-03  5.80624957e-03 -1.26822793e-03 -2.99557485e-03\n -4.31758212e-03  2.83447164e-03 -5.34134917e-03 -2.82279076e-03\n  2.19949634e-05 -1.08776158e-02  1.05558774e-02 -1.79661345e-02\n -6.30994281e-03  8.85926187e-03 -5.63711906e-03 -9.72403493e-03\n -7.14420946e-03 -8.47204868e-03 -2.51607783e-03  4.96489601e-03\n  4.58821515e-03  5.99292293e-03  8.32174346e-03  2.48182332e-03\n  8.73593090e-04  2.47788103e-03 -2.72928923e-03 -1.17324316e-03\n  2.95935269e-03  2.33597634e-03 -4.15698485e-03 -1.00139214e-03\n  5.73900947e-03  8.72343138e-04 -6.28082966e-03 -6.74703298e-03\n  2.68336129e-03  6.21386897e-03  4.13901964e-03 -5.22938743e-03\n  1.57860573e-03 -1.39748245e-05  4.36257012e-03  1.53441157e-03\n -8.95416364e-03  5.60096698e-03 -9.16124787e-03  1.90252345e-03\n  7.67615065e-03  5.20171481e-04  7.31813663e-04 -5.24628861e-03\n -8.53637978e-03 -5.70362108e-03 -1.10321296e-02  1.00023148e-03\n  4.56724875e-03  4.35863709e-04  1.43527810e-03  1.98170566e-03\n  1.88102236e-03 -1.08022531e-02  3.35521484e-03 -5.53206122e-03\n  4.72141057e-03 -3.98253649e-03  3.02274642e-03 -4.78841411e-03\n -9.11878143e-03  3.13154282e-03  1.31026609e-03 -7.42821349e-03\n -1.99144706e-03 -7.28658913e-03 -4.36161441e-04 -1.19499201e-02\n  4.62837052e-03  1.47236206e-04  8.97247437e-03 -1.62828946e-04\n -9.14337521e-04  4.02575405e-03  1.61203396e-04  1.55513303e-03\n -4.65423288e-03 -2.18189391e-03 -2.42776820e-03  2.29380117e-03\n  6.13811472e-03 -4.62208781e-03 -8.18245020e-03 -7.23042712e-03\n -1.99611764e-03  8.39103386e-03 -3.74156795e-03 -3.72179807e-03\n  8.28001462e-03 -4.30189725e-03  6.60121441e-03  6.29534805e-03\n -3.66137805e-03  3.93617013e-03 -8.86049028e-03 -9.41047724e-03\n -9.02074762e-03 -2.48632394e-03 -3.46155302e-03  6.02386985e-03\n  2.76621338e-03  1.05338043e-03  8.92974157e-03 -2.69650575e-03\n  9.77720134e-03 -6.35889778e-03 -1.06052971e-02  3.90216545e-03\n  1.04018152e-02 -1.42812636e-03 -4.86846315e-03 -2.83573085e-04\n  3.97125259e-03  6.46703271e-03  4.76972673e-05 -1.04060760e-02\n -5.95233869e-03 -7.96384923e-03 -6.92676986e-04  6.38062926e-03\n -5.41250978e-04  8.99074506e-03  2.02461472e-03 -5.16446633e-03\n  4.51391563e-03  6.30202005e-03  1.57901552e-03  1.15502169e-02\n  2.14796118e-03  1.50053930e-02  3.11743846e-04 -5.52261481e-03\n -7.61817396e-03 -2.92416359e-03 -9.28931311e-03 -4.30664467e-03\n -2.01973831e-03  1.77372973e-02  7.77671952e-03  5.91199845e-03\n  9.93875600e-03 -8.68673716e-03  1.12300394e-02 -2.18541594e-03\n -2.24678568e-03  1.23618214e-04 -4.40898631e-03 -6.68315031e-03\n -2.60138535e-03 -1.68718677e-03 -1.69962477e-02 -6.05232269e-03\n  2.45849276e-03  4.47308458e-03 -6.01753406e-03  6.19231118e-03\n  4.92349314e-03 -8.76311958e-03  8.67771450e-03 -5.15112234e-03\n  3.34760151e-03 -1.00719735e-04 -8.12160724e-05  2.44754157e-03\n  3.15897889e-03  1.12720868e-02 -4.22236370e-03  1.05956858e-02\n  1.38560776e-03  7.25751277e-04  8.39959655e-04 -5.65505703e-04\n  9.55172256e-03 -1.38505967e-03  1.47329527e-03 -5.60571160e-03\n -1.18236858e-02 -9.48491320e-03 -2.96317390e-03 -6.90207072e-03\n -1.01869763e-03  4.43033082e-03 -5.81736723e-03  2.26628105e-03].\nReshape your data either using array.reshape(-1, 1) if your data has a single feature or array.reshape(1, -1) if it contains a single sample.",
     "output_type": "error",
     "traceback": [
      "\u001b[1;31m---------------------------------------------------------------------------\u001b[0m",
      "\u001b[1;31mValueError\u001b[0m                                Traceback (most recent call last)",
      "\u001b[1;32m<ipython-input-51-2c95a3ceed1e>\u001b[0m in \u001b[0;36m<module>\u001b[1;34m\u001b[0m\n\u001b[0;32m      4\u001b[0m \u001b[0mX_train\u001b[0m\u001b[1;33m,\u001b[0m \u001b[0mX_test\u001b[0m\u001b[1;33m,\u001b[0m \u001b[0my_train\u001b[0m\u001b[1;33m,\u001b[0m \u001b[0my_test\u001b[0m \u001b[1;33m=\u001b[0m \u001b[0mtrain_test_split\u001b[0m\u001b[1;33m(\u001b[0m\u001b[0mX\u001b[0m\u001b[1;33m,\u001b[0m \u001b[0my\u001b[0m\u001b[1;33m,\u001b[0m \u001b[0mtest_size\u001b[0m\u001b[1;33m=\u001b[0m\u001b[1;36m0.28\u001b[0m\u001b[1;33m,\u001b[0m \u001b[0mrandom_state\u001b[0m\u001b[1;33m=\u001b[0m\u001b[1;36m31\u001b[0m\u001b[1;33m)\u001b[0m\u001b[1;33m\u001b[0m\u001b[1;33m\u001b[0m\u001b[0m\n\u001b[0;32m      5\u001b[0m \u001b[1;33m\u001b[0m\u001b[0m\n\u001b[1;32m----> 6\u001b[1;33m \u001b[0mprint\u001b[0m\u001b[1;33m(\u001b[0m\u001b[1;34m\"Accuracy:\"\u001b[0m\u001b[1;33m,\u001b[0m \u001b[0mget_score\u001b[0m\u001b[1;33m(\u001b[0m\u001b[0mDecisionTreeClassifier\u001b[0m\u001b[1;33m(\u001b[0m\u001b[1;33m)\u001b[0m\u001b[1;33m,\u001b[0m \u001b[0mX_train\u001b[0m\u001b[1;33m,\u001b[0m \u001b[0mX_test\u001b[0m\u001b[1;33m,\u001b[0m \u001b[0my_train\u001b[0m\u001b[1;33m,\u001b[0m \u001b[0my_test\u001b[0m\u001b[1;33m)\u001b[0m\u001b[1;33m)\u001b[0m\u001b[1;33m\u001b[0m\u001b[1;33m\u001b[0m\u001b[0m\n\u001b[0m\u001b[0;32m      7\u001b[0m \u001b[1;33m\u001b[0m\u001b[0m\n\u001b[0;32m      8\u001b[0m \u001b[0mcv_score_dt\u001b[0m \u001b[1;33m=\u001b[0m \u001b[0mcross_val_score\u001b[0m\u001b[1;33m(\u001b[0m\u001b[0mDecisionTreeClassifier\u001b[0m\u001b[1;33m(\u001b[0m\u001b[1;33m)\u001b[0m\u001b[1;33m,\u001b[0m \u001b[0mX\u001b[0m\u001b[1;33m,\u001b[0m \u001b[0my\u001b[0m\u001b[1;33m,\u001b[0m \u001b[0mcv\u001b[0m\u001b[1;33m=\u001b[0m\u001b[1;36m5\u001b[0m\u001b[1;33m)\u001b[0m\u001b[1;33m\u001b[0m\u001b[1;33m\u001b[0m\u001b[0m\n",
      "\u001b[1;32m<ipython-input-50-c24529aa9f5e>\u001b[0m in \u001b[0;36mget_score\u001b[1;34m(model, X_train, X_test, y_train, y_test)\u001b[0m\n\u001b[0;32m      1\u001b[0m \u001b[1;32mdef\u001b[0m \u001b[0mget_score\u001b[0m\u001b[1;33m(\u001b[0m\u001b[0mmodel\u001b[0m\u001b[1;33m,\u001b[0m \u001b[0mX_train\u001b[0m\u001b[1;33m,\u001b[0m \u001b[0mX_test\u001b[0m\u001b[1;33m,\u001b[0m \u001b[0my_train\u001b[0m\u001b[1;33m,\u001b[0m \u001b[0my_test\u001b[0m\u001b[1;33m)\u001b[0m\u001b[1;33m:\u001b[0m\u001b[1;33m\u001b[0m\u001b[1;33m\u001b[0m\u001b[0m\n\u001b[1;32m----> 2\u001b[1;33m     \u001b[0mmodel\u001b[0m\u001b[1;33m.\u001b[0m\u001b[0mfit\u001b[0m\u001b[1;33m(\u001b[0m\u001b[0mX_train\u001b[0m\u001b[1;33m,\u001b[0m \u001b[0my_train\u001b[0m\u001b[1;33m)\u001b[0m\u001b[1;33m\u001b[0m\u001b[1;33m\u001b[0m\u001b[0m\n\u001b[0m\u001b[0;32m      3\u001b[0m     \u001b[0my_predict\u001b[0m \u001b[1;33m=\u001b[0m \u001b[0mmodel\u001b[0m\u001b[1;33m.\u001b[0m\u001b[0mpredict\u001b[0m\u001b[1;33m(\u001b[0m\u001b[0mX_test\u001b[0m\u001b[1;33m)\u001b[0m\u001b[1;33m\u001b[0m\u001b[1;33m\u001b[0m\u001b[0m\n\u001b[0;32m      4\u001b[0m     \u001b[0maccuracy\u001b[0m \u001b[1;33m=\u001b[0m \u001b[0maccuracy_score\u001b[0m\u001b[1;33m(\u001b[0m\u001b[0my_test\u001b[0m\u001b[1;33m,\u001b[0m \u001b[0my_predict\u001b[0m\u001b[1;33m)\u001b[0m\u001b[1;33m\u001b[0m\u001b[1;33m\u001b[0m\u001b[0m\n\u001b[0;32m      5\u001b[0m     \u001b[1;32mreturn\u001b[0m \u001b[0maccuracy\u001b[0m\u001b[1;33m\u001b[0m\u001b[1;33m\u001b[0m\u001b[0m\n",
      "\u001b[1;32m~\\anaconda3\\lib\\site-packages\\sklearn\\tree\\_classes.py\u001b[0m in \u001b[0;36mfit\u001b[1;34m(self, X, y, sample_weight, check_input, X_idx_sorted)\u001b[0m\n\u001b[0;32m    888\u001b[0m         \"\"\"\n\u001b[0;32m    889\u001b[0m \u001b[1;33m\u001b[0m\u001b[0m\n\u001b[1;32m--> 890\u001b[1;33m         super().fit(\n\u001b[0m\u001b[0;32m    891\u001b[0m             \u001b[0mX\u001b[0m\u001b[1;33m,\u001b[0m \u001b[0my\u001b[0m\u001b[1;33m,\u001b[0m\u001b[1;33m\u001b[0m\u001b[1;33m\u001b[0m\u001b[0m\n\u001b[0;32m    892\u001b[0m             \u001b[0msample_weight\u001b[0m\u001b[1;33m=\u001b[0m\u001b[0msample_weight\u001b[0m\u001b[1;33m,\u001b[0m\u001b[1;33m\u001b[0m\u001b[1;33m\u001b[0m\u001b[0m\n",
      "\u001b[1;32m~\\anaconda3\\lib\\site-packages\\sklearn\\tree\\_classes.py\u001b[0m in \u001b[0;36mfit\u001b[1;34m(self, X, y, sample_weight, check_input, X_idx_sorted)\u001b[0m\n\u001b[0;32m    154\u001b[0m             \u001b[0mcheck_X_params\u001b[0m \u001b[1;33m=\u001b[0m \u001b[0mdict\u001b[0m\u001b[1;33m(\u001b[0m\u001b[0mdtype\u001b[0m\u001b[1;33m=\u001b[0m\u001b[0mDTYPE\u001b[0m\u001b[1;33m,\u001b[0m \u001b[0maccept_sparse\u001b[0m\u001b[1;33m=\u001b[0m\u001b[1;34m\"csc\"\u001b[0m\u001b[1;33m)\u001b[0m\u001b[1;33m\u001b[0m\u001b[1;33m\u001b[0m\u001b[0m\n\u001b[0;32m    155\u001b[0m             \u001b[0mcheck_y_params\u001b[0m \u001b[1;33m=\u001b[0m \u001b[0mdict\u001b[0m\u001b[1;33m(\u001b[0m\u001b[0mensure_2d\u001b[0m\u001b[1;33m=\u001b[0m\u001b[1;32mFalse\u001b[0m\u001b[1;33m,\u001b[0m \u001b[0mdtype\u001b[0m\u001b[1;33m=\u001b[0m\u001b[1;32mNone\u001b[0m\u001b[1;33m)\u001b[0m\u001b[1;33m\u001b[0m\u001b[1;33m\u001b[0m\u001b[0m\n\u001b[1;32m--> 156\u001b[1;33m             X, y = self._validate_data(X, y,\n\u001b[0m\u001b[0;32m    157\u001b[0m                                        validate_separately=(check_X_params,\n\u001b[0;32m    158\u001b[0m                                                             check_y_params))\n",
      "\u001b[1;32m~\\anaconda3\\lib\\site-packages\\sklearn\\base.py\u001b[0m in \u001b[0;36m_validate_data\u001b[1;34m(self, X, y, reset, validate_separately, **check_params)\u001b[0m\n\u001b[0;32m    427\u001b[0m                 \u001b[1;31m# :(\u001b[0m\u001b[1;33m\u001b[0m\u001b[1;33m\u001b[0m\u001b[1;33m\u001b[0m\u001b[0m\n\u001b[0;32m    428\u001b[0m                 \u001b[0mcheck_X_params\u001b[0m\u001b[1;33m,\u001b[0m \u001b[0mcheck_y_params\u001b[0m \u001b[1;33m=\u001b[0m \u001b[0mvalidate_separately\u001b[0m\u001b[1;33m\u001b[0m\u001b[1;33m\u001b[0m\u001b[0m\n\u001b[1;32m--> 429\u001b[1;33m                 \u001b[0mX\u001b[0m \u001b[1;33m=\u001b[0m \u001b[0mcheck_array\u001b[0m\u001b[1;33m(\u001b[0m\u001b[0mX\u001b[0m\u001b[1;33m,\u001b[0m \u001b[1;33m**\u001b[0m\u001b[0mcheck_X_params\u001b[0m\u001b[1;33m)\u001b[0m\u001b[1;33m\u001b[0m\u001b[1;33m\u001b[0m\u001b[0m\n\u001b[0m\u001b[0;32m    430\u001b[0m                 \u001b[0my\u001b[0m \u001b[1;33m=\u001b[0m \u001b[0mcheck_array\u001b[0m\u001b[1;33m(\u001b[0m\u001b[0my\u001b[0m\u001b[1;33m,\u001b[0m \u001b[1;33m**\u001b[0m\u001b[0mcheck_y_params\u001b[0m\u001b[1;33m)\u001b[0m\u001b[1;33m\u001b[0m\u001b[1;33m\u001b[0m\u001b[0m\n\u001b[0;32m    431\u001b[0m             \u001b[1;32melse\u001b[0m\u001b[1;33m:\u001b[0m\u001b[1;33m\u001b[0m\u001b[1;33m\u001b[0m\u001b[0m\n",
      "\u001b[1;32m~\\anaconda3\\lib\\site-packages\\sklearn\\utils\\validation.py\u001b[0m in \u001b[0;36minner_f\u001b[1;34m(*args, **kwargs)\u001b[0m\n\u001b[0;32m     71\u001b[0m                           FutureWarning)\n\u001b[0;32m     72\u001b[0m         \u001b[0mkwargs\u001b[0m\u001b[1;33m.\u001b[0m\u001b[0mupdate\u001b[0m\u001b[1;33m(\u001b[0m\u001b[1;33m{\u001b[0m\u001b[0mk\u001b[0m\u001b[1;33m:\u001b[0m \u001b[0marg\u001b[0m \u001b[1;32mfor\u001b[0m \u001b[0mk\u001b[0m\u001b[1;33m,\u001b[0m \u001b[0marg\u001b[0m \u001b[1;32min\u001b[0m \u001b[0mzip\u001b[0m\u001b[1;33m(\u001b[0m\u001b[0msig\u001b[0m\u001b[1;33m.\u001b[0m\u001b[0mparameters\u001b[0m\u001b[1;33m,\u001b[0m \u001b[0margs\u001b[0m\u001b[1;33m)\u001b[0m\u001b[1;33m}\u001b[0m\u001b[1;33m)\u001b[0m\u001b[1;33m\u001b[0m\u001b[1;33m\u001b[0m\u001b[0m\n\u001b[1;32m---> 73\u001b[1;33m         \u001b[1;32mreturn\u001b[0m \u001b[0mf\u001b[0m\u001b[1;33m(\u001b[0m\u001b[1;33m**\u001b[0m\u001b[0mkwargs\u001b[0m\u001b[1;33m)\u001b[0m\u001b[1;33m\u001b[0m\u001b[1;33m\u001b[0m\u001b[0m\n\u001b[0m\u001b[0;32m     74\u001b[0m     \u001b[1;32mreturn\u001b[0m \u001b[0minner_f\u001b[0m\u001b[1;33m\u001b[0m\u001b[1;33m\u001b[0m\u001b[0m\n\u001b[0;32m     75\u001b[0m \u001b[1;33m\u001b[0m\u001b[0m\n",
      "\u001b[1;32m~\\anaconda3\\lib\\site-packages\\sklearn\\utils\\validation.py\u001b[0m in \u001b[0;36mcheck_array\u001b[1;34m(array, accept_sparse, accept_large_sparse, dtype, order, copy, force_all_finite, ensure_2d, allow_nd, ensure_min_samples, ensure_min_features, estimator)\u001b[0m\n\u001b[0;32m    618\u001b[0m             \u001b[1;31m# If input is 1D raise error\u001b[0m\u001b[1;33m\u001b[0m\u001b[1;33m\u001b[0m\u001b[1;33m\u001b[0m\u001b[0m\n\u001b[0;32m    619\u001b[0m             \u001b[1;32mif\u001b[0m \u001b[0marray\u001b[0m\u001b[1;33m.\u001b[0m\u001b[0mndim\u001b[0m \u001b[1;33m==\u001b[0m \u001b[1;36m1\u001b[0m\u001b[1;33m:\u001b[0m\u001b[1;33m\u001b[0m\u001b[1;33m\u001b[0m\u001b[0m\n\u001b[1;32m--> 620\u001b[1;33m                 raise ValueError(\n\u001b[0m\u001b[0;32m    621\u001b[0m                     \u001b[1;34m\"Expected 2D array, got 1D array instead:\\narray={}.\\n\"\u001b[0m\u001b[1;33m\u001b[0m\u001b[1;33m\u001b[0m\u001b[0m\n\u001b[0;32m    622\u001b[0m                     \u001b[1;34m\"Reshape your data either using array.reshape(-1, 1) if \"\u001b[0m\u001b[1;33m\u001b[0m\u001b[1;33m\u001b[0m\u001b[0m\n",
      "\u001b[1;31mValueError\u001b[0m: Expected 2D array, got 1D array instead:\narray=[-5.63855888e-03 -1.71760411e-03  5.08151716e-03 -5.84507314e-03\n  2.48045870e-03 -1.19174300e-02 -6.44919463e-03 -4.86574788e-03\n  3.84467491e-03 -6.48372667e-03  8.37015250e-05  4.78749303e-03\n -5.47698606e-03 -6.24768995e-03 -4.92127566e-03  7.03952461e-03\n -7.20075704e-03 -2.94243870e-03  2.49006553e-03 -2.97569670e-03\n  1.22954766e-03  5.81780029e-03  6.44995482e-04  2.39688228e-03\n -1.30235590e-03 -2.27511744e-03 -8.85553382e-05 -7.71147851e-03\n  9.66342224e-04 -9.75726289e-04  1.35125527e-02  2.17120233e-03\n -3.39118857e-03  1.21005194e-03  1.22184921e-02  8.32272787e-03\n -7.01932237e-04  8.18643533e-03 -7.28494488e-03  2.32055341e-03\n -6.53453823e-03  8.35912488e-03  1.06068710e-02 -4.84854029e-03\n -8.86216294e-03  5.80624957e-03 -1.26822793e-03 -2.99557485e-03\n -4.31758212e-03  2.83447164e-03 -5.34134917e-03 -2.82279076e-03\n  2.19949634e-05 -1.08776158e-02  1.05558774e-02 -1.79661345e-02\n -6.30994281e-03  8.85926187e-03 -5.63711906e-03 -9.72403493e-03\n -7.14420946e-03 -8.47204868e-03 -2.51607783e-03  4.96489601e-03\n  4.58821515e-03  5.99292293e-03  8.32174346e-03  2.48182332e-03\n  8.73593090e-04  2.47788103e-03 -2.72928923e-03 -1.17324316e-03\n  2.95935269e-03  2.33597634e-03 -4.15698485e-03 -1.00139214e-03\n  5.73900947e-03  8.72343138e-04 -6.28082966e-03 -6.74703298e-03\n  2.68336129e-03  6.21386897e-03  4.13901964e-03 -5.22938743e-03\n  1.57860573e-03 -1.39748245e-05  4.36257012e-03  1.53441157e-03\n -8.95416364e-03  5.60096698e-03 -9.16124787e-03  1.90252345e-03\n  7.67615065e-03  5.20171481e-04  7.31813663e-04 -5.24628861e-03\n -8.53637978e-03 -5.70362108e-03 -1.10321296e-02  1.00023148e-03\n  4.56724875e-03  4.35863709e-04  1.43527810e-03  1.98170566e-03\n  1.88102236e-03 -1.08022531e-02  3.35521484e-03 -5.53206122e-03\n  4.72141057e-03 -3.98253649e-03  3.02274642e-03 -4.78841411e-03\n -9.11878143e-03  3.13154282e-03  1.31026609e-03 -7.42821349e-03\n -1.99144706e-03 -7.28658913e-03 -4.36161441e-04 -1.19499201e-02\n  4.62837052e-03  1.47236206e-04  8.97247437e-03 -1.62828946e-04\n -9.14337521e-04  4.02575405e-03  1.61203396e-04  1.55513303e-03\n -4.65423288e-03 -2.18189391e-03 -2.42776820e-03  2.29380117e-03\n  6.13811472e-03 -4.62208781e-03 -8.18245020e-03 -7.23042712e-03\n -1.99611764e-03  8.39103386e-03 -3.74156795e-03 -3.72179807e-03\n  8.28001462e-03 -4.30189725e-03  6.60121441e-03  6.29534805e-03\n -3.66137805e-03  3.93617013e-03 -8.86049028e-03 -9.41047724e-03\n -9.02074762e-03 -2.48632394e-03 -3.46155302e-03  6.02386985e-03\n  2.76621338e-03  1.05338043e-03  8.92974157e-03 -2.69650575e-03\n  9.77720134e-03 -6.35889778e-03 -1.06052971e-02  3.90216545e-03\n  1.04018152e-02 -1.42812636e-03 -4.86846315e-03 -2.83573085e-04\n  3.97125259e-03  6.46703271e-03  4.76972673e-05 -1.04060760e-02\n -5.95233869e-03 -7.96384923e-03 -6.92676986e-04  6.38062926e-03\n -5.41250978e-04  8.99074506e-03  2.02461472e-03 -5.16446633e-03\n  4.51391563e-03  6.30202005e-03  1.57901552e-03  1.15502169e-02\n  2.14796118e-03  1.50053930e-02  3.11743846e-04 -5.52261481e-03\n -7.61817396e-03 -2.92416359e-03 -9.28931311e-03 -4.30664467e-03\n -2.01973831e-03  1.77372973e-02  7.77671952e-03  5.91199845e-03\n  9.93875600e-03 -8.68673716e-03  1.12300394e-02 -2.18541594e-03\n -2.24678568e-03  1.23618214e-04 -4.40898631e-03 -6.68315031e-03\n -2.60138535e-03 -1.68718677e-03 -1.69962477e-02 -6.05232269e-03\n  2.45849276e-03  4.47308458e-03 -6.01753406e-03  6.19231118e-03\n  4.92349314e-03 -8.76311958e-03  8.67771450e-03 -5.15112234e-03\n  3.34760151e-03 -1.00719735e-04 -8.12160724e-05  2.44754157e-03\n  3.15897889e-03  1.12720868e-02 -4.22236370e-03  1.05956858e-02\n  1.38560776e-03  7.25751277e-04  8.39959655e-04 -5.65505703e-04\n  9.55172256e-03 -1.38505967e-03  1.47329527e-03 -5.60571160e-03\n -1.18236858e-02 -9.48491320e-03 -2.96317390e-03 -6.90207072e-03\n -1.01869763e-03  4.43033082e-03 -5.81736723e-03  2.26628105e-03].\nReshape your data either using array.reshape(-1, 1) if your data has a single feature or array.reshape(1, -1) if it contains a single sample."
     ]
    }
   ],
   "source": [
    "from sklearn.tree import DecisionTreeClassifier\n",
    "from sklearn.model_selection import KFold\n",
    "\n",
    "X_train, X_test, y_train, y_test = train_test_split(X, y, test_size=0.28, random_state=31)\n",
    "\n",
    "print(\"Accuracy:\", get_score(DecisionTreeClassifier(), X_train, X_test, y_train, y_test))\n",
    "\n",
    "cv_score_dt = cross_val_score(DecisionTreeClassifier(), X, y, cv=5)\n",
    "\n",
    "print(\"\\nCross Validation Accuracy:\", (cv_score_dt.mean()))"
   ]
  },
  {
   "cell_type": "code",
   "execution_count": 52,
   "metadata": {},
   "outputs": [
    {
     "ename": "ValueError",
     "evalue": "Expected 2D array, got 1D array instead:\narray=[-6.44919463e-03 -4.86574788e-03  3.84467491e-03 -6.48372667e-03\n  8.37015250e-05  4.78749303e-03 -5.47698606e-03 -6.24768995e-03\n -4.92127566e-03  7.03952461e-03 -7.20075704e-03 -2.94243870e-03\n  2.49006553e-03 -2.97569670e-03  1.22954766e-03  5.81780029e-03\n  6.44995482e-04  2.39688228e-03 -1.30235590e-03 -2.27511744e-03\n -8.85553382e-05 -7.71147851e-03  9.66342224e-04 -9.75726289e-04\n  1.35125527e-02  2.17120233e-03 -3.39118857e-03  1.21005194e-03\n  1.22184921e-02  8.32272787e-03 -7.01932237e-04  8.18643533e-03\n -7.28494488e-03  2.32055341e-03 -6.53453823e-03  8.35912488e-03\n  1.06068710e-02 -4.84854029e-03 -8.86216294e-03  5.80624957e-03\n -1.26822793e-03 -2.99557485e-03 -4.31758212e-03  2.83447164e-03\n -5.34134917e-03 -2.82279076e-03  2.19949634e-05 -1.08776158e-02\n  1.05558774e-02 -1.79661345e-02 -6.30994281e-03  8.85926187e-03\n -5.63711906e-03 -9.72403493e-03 -7.14420946e-03 -8.47204868e-03\n -2.51607783e-03  4.96489601e-03  4.58821515e-03  5.99292293e-03\n  8.32174346e-03  2.48182332e-03  8.73593090e-04  2.47788103e-03\n -2.72928923e-03 -1.17324316e-03  2.95935269e-03  2.33597634e-03\n -4.15698485e-03 -1.00139214e-03  5.73900947e-03  8.72343138e-04\n -6.28082966e-03 -6.74703298e-03  2.68336129e-03  6.21386897e-03\n  4.13901964e-03 -5.22938743e-03  1.57860573e-03 -1.39748245e-05\n  4.36257012e-03  1.53441157e-03 -8.95416364e-03  5.60096698e-03\n -9.16124787e-03  1.90252345e-03  7.67615065e-03  5.20171481e-04\n  7.31813663e-04 -5.24628861e-03 -8.53637978e-03 -5.70362108e-03\n -1.10321296e-02  1.00023148e-03  4.56724875e-03  4.35863709e-04\n  1.43527810e-03  1.98170566e-03  1.88102236e-03 -1.08022531e-02\n  3.35521484e-03 -5.53206122e-03  4.72141057e-03 -3.98253649e-03\n  3.02274642e-03 -4.78841411e-03 -9.11878143e-03  3.13154282e-03\n  1.31026609e-03 -7.42821349e-03 -1.99144706e-03 -7.28658913e-03\n -4.36161441e-04 -1.19499201e-02  4.62837052e-03  1.47236206e-04\n  8.97247437e-03 -1.62828946e-04 -9.14337521e-04  4.02575405e-03\n  1.61203396e-04  1.55513303e-03 -4.65423288e-03 -2.18189391e-03\n -2.42776820e-03  2.29380117e-03  6.13811472e-03 -4.62208781e-03\n -8.18245020e-03 -7.23042712e-03 -1.99611764e-03  8.39103386e-03\n -3.74156795e-03 -3.72179807e-03  8.28001462e-03 -4.30189725e-03\n  6.60121441e-03  6.29534805e-03 -3.66137805e-03  3.93617013e-03\n -8.86049028e-03 -9.41047724e-03 -9.02074762e-03 -2.48632394e-03\n -3.46155302e-03  6.02386985e-03  2.76621338e-03  1.05338043e-03\n  8.92974157e-03 -2.69650575e-03  9.77720134e-03 -6.35889778e-03\n -1.06052971e-02  3.90216545e-03  1.04018152e-02 -1.42812636e-03\n -4.86846315e-03 -2.83573085e-04  3.97125259e-03  6.46703271e-03\n  4.76972673e-05 -1.04060760e-02 -5.95233869e-03 -7.96384923e-03\n -6.92676986e-04  6.38062926e-03 -5.41250978e-04  8.99074506e-03\n  2.02461472e-03 -5.16446633e-03  4.51391563e-03  6.30202005e-03\n  1.57901552e-03  1.15502169e-02  2.14796118e-03  1.50053930e-02\n  3.11743846e-04 -5.52261481e-03 -7.61817396e-03 -2.92416359e-03\n -9.28931311e-03 -4.30664467e-03 -2.01973831e-03  1.77372973e-02\n  7.77671952e-03  5.91199845e-03  9.93875600e-03 -8.68673716e-03\n  1.12300394e-02 -2.18541594e-03 -2.24678568e-03  1.23618214e-04\n -4.40898631e-03 -6.68315031e-03 -2.60138535e-03 -1.68718677e-03\n -1.69962477e-02 -6.05232269e-03  2.45849276e-03  4.47308458e-03\n -6.01753406e-03  6.19231118e-03  4.92349314e-03 -8.76311958e-03\n  8.67771450e-03 -5.15112234e-03  3.34760151e-03 -1.00719735e-04\n -8.12160724e-05  2.44754157e-03  3.15897889e-03  1.12720868e-02\n -4.22236370e-03  1.05956858e-02  1.38560776e-03  7.25751277e-04\n  8.39959655e-04 -5.65505703e-04  9.55172256e-03 -1.38505967e-03\n  1.47329527e-03 -5.60571160e-03 -1.18236858e-02 -9.48491320e-03\n -2.96317390e-03 -6.90207072e-03 -1.01869763e-03  4.43033082e-03\n -5.81736723e-03  2.26628105e-03].\nReshape your data either using array.reshape(-1, 1) if your data has a single feature or array.reshape(1, -1) if it contains a single sample.",
     "output_type": "error",
     "traceback": [
      "\u001b[1;31m---------------------------------------------------------------------------\u001b[0m",
      "\u001b[1;31mValueError\u001b[0m                                Traceback (most recent call last)",
      "\u001b[1;32m<ipython-input-52-1bf59492cade>\u001b[0m in \u001b[0;36m<module>\u001b[1;34m\u001b[0m\n\u001b[0;32m      4\u001b[0m \u001b[0mX_train\u001b[0m\u001b[1;33m,\u001b[0m \u001b[0mX_test\u001b[0m\u001b[1;33m,\u001b[0m \u001b[0my_train\u001b[0m\u001b[1;33m,\u001b[0m \u001b[0my_test\u001b[0m \u001b[1;33m=\u001b[0m \u001b[0mtrain_test_split\u001b[0m\u001b[1;33m(\u001b[0m\u001b[0mX\u001b[0m\u001b[1;33m,\u001b[0m \u001b[0my\u001b[0m\u001b[1;33m,\u001b[0m \u001b[0mtest_size\u001b[0m\u001b[1;33m=\u001b[0m\u001b[1;36m0.3\u001b[0m\u001b[1;33m,\u001b[0m \u001b[0mrandom_state\u001b[0m\u001b[1;33m=\u001b[0m\u001b[1;36m31\u001b[0m\u001b[1;33m)\u001b[0m\u001b[1;33m\u001b[0m\u001b[1;33m\u001b[0m\u001b[0m\n\u001b[0;32m      5\u001b[0m \u001b[1;33m\u001b[0m\u001b[0m\n\u001b[1;32m----> 6\u001b[1;33m \u001b[0mprint\u001b[0m\u001b[1;33m(\u001b[0m\u001b[1;34m\"Accuracy:\"\u001b[0m\u001b[1;33m,\u001b[0m \u001b[0mget_score\u001b[0m\u001b[1;33m(\u001b[0m\u001b[0mLogisticRegression\u001b[0m\u001b[1;33m(\u001b[0m\u001b[1;33m)\u001b[0m\u001b[1;33m,\u001b[0m \u001b[0mX_train\u001b[0m\u001b[1;33m,\u001b[0m \u001b[0mX_test\u001b[0m\u001b[1;33m,\u001b[0m \u001b[0my_train\u001b[0m\u001b[1;33m,\u001b[0m \u001b[0my_test\u001b[0m\u001b[1;33m)\u001b[0m\u001b[1;33m)\u001b[0m\u001b[1;33m\u001b[0m\u001b[1;33m\u001b[0m\u001b[0m\n\u001b[0m\u001b[0;32m      7\u001b[0m \u001b[1;33m\u001b[0m\u001b[0m\n\u001b[0;32m      8\u001b[0m \u001b[0mcv_score_lr\u001b[0m \u001b[1;33m=\u001b[0m \u001b[0mcross_val_score\u001b[0m\u001b[1;33m(\u001b[0m\u001b[0mLogisticRegression\u001b[0m\u001b[1;33m(\u001b[0m\u001b[1;33m)\u001b[0m\u001b[1;33m,\u001b[0m \u001b[0mX\u001b[0m\u001b[1;33m,\u001b[0m \u001b[0my\u001b[0m\u001b[1;33m,\u001b[0m \u001b[0mcv\u001b[0m\u001b[1;33m=\u001b[0m\u001b[1;36m5\u001b[0m\u001b[1;33m)\u001b[0m\u001b[1;33m\u001b[0m\u001b[1;33m\u001b[0m\u001b[0m\n",
      "\u001b[1;32m<ipython-input-50-c24529aa9f5e>\u001b[0m in \u001b[0;36mget_score\u001b[1;34m(model, X_train, X_test, y_train, y_test)\u001b[0m\n\u001b[0;32m      1\u001b[0m \u001b[1;32mdef\u001b[0m \u001b[0mget_score\u001b[0m\u001b[1;33m(\u001b[0m\u001b[0mmodel\u001b[0m\u001b[1;33m,\u001b[0m \u001b[0mX_train\u001b[0m\u001b[1;33m,\u001b[0m \u001b[0mX_test\u001b[0m\u001b[1;33m,\u001b[0m \u001b[0my_train\u001b[0m\u001b[1;33m,\u001b[0m \u001b[0my_test\u001b[0m\u001b[1;33m)\u001b[0m\u001b[1;33m:\u001b[0m\u001b[1;33m\u001b[0m\u001b[1;33m\u001b[0m\u001b[0m\n\u001b[1;32m----> 2\u001b[1;33m     \u001b[0mmodel\u001b[0m\u001b[1;33m.\u001b[0m\u001b[0mfit\u001b[0m\u001b[1;33m(\u001b[0m\u001b[0mX_train\u001b[0m\u001b[1;33m,\u001b[0m \u001b[0my_train\u001b[0m\u001b[1;33m)\u001b[0m\u001b[1;33m\u001b[0m\u001b[1;33m\u001b[0m\u001b[0m\n\u001b[0m\u001b[0;32m      3\u001b[0m     \u001b[0my_predict\u001b[0m \u001b[1;33m=\u001b[0m \u001b[0mmodel\u001b[0m\u001b[1;33m.\u001b[0m\u001b[0mpredict\u001b[0m\u001b[1;33m(\u001b[0m\u001b[0mX_test\u001b[0m\u001b[1;33m)\u001b[0m\u001b[1;33m\u001b[0m\u001b[1;33m\u001b[0m\u001b[0m\n\u001b[0;32m      4\u001b[0m     \u001b[0maccuracy\u001b[0m \u001b[1;33m=\u001b[0m \u001b[0maccuracy_score\u001b[0m\u001b[1;33m(\u001b[0m\u001b[0my_test\u001b[0m\u001b[1;33m,\u001b[0m \u001b[0my_predict\u001b[0m\u001b[1;33m)\u001b[0m\u001b[1;33m\u001b[0m\u001b[1;33m\u001b[0m\u001b[0m\n\u001b[0;32m      5\u001b[0m     \u001b[1;32mreturn\u001b[0m \u001b[0maccuracy\u001b[0m\u001b[1;33m\u001b[0m\u001b[1;33m\u001b[0m\u001b[0m\n",
      "\u001b[1;32m~\\anaconda3\\lib\\site-packages\\sklearn\\linear_model\\_logistic.py\u001b[0m in \u001b[0;36mfit\u001b[1;34m(self, X, y, sample_weight)\u001b[0m\n\u001b[0;32m   1340\u001b[0m             \u001b[0m_dtype\u001b[0m \u001b[1;33m=\u001b[0m \u001b[1;33m[\u001b[0m\u001b[0mnp\u001b[0m\u001b[1;33m.\u001b[0m\u001b[0mfloat64\u001b[0m\u001b[1;33m,\u001b[0m \u001b[0mnp\u001b[0m\u001b[1;33m.\u001b[0m\u001b[0mfloat32\u001b[0m\u001b[1;33m]\u001b[0m\u001b[1;33m\u001b[0m\u001b[1;33m\u001b[0m\u001b[0m\n\u001b[0;32m   1341\u001b[0m \u001b[1;33m\u001b[0m\u001b[0m\n\u001b[1;32m-> 1342\u001b[1;33m         X, y = self._validate_data(X, y, accept_sparse='csr', dtype=_dtype,\n\u001b[0m\u001b[0;32m   1343\u001b[0m                                    \u001b[0morder\u001b[0m\u001b[1;33m=\u001b[0m\u001b[1;34m\"C\"\u001b[0m\u001b[1;33m,\u001b[0m\u001b[1;33m\u001b[0m\u001b[1;33m\u001b[0m\u001b[0m\n\u001b[0;32m   1344\u001b[0m                                    accept_large_sparse=solver != 'liblinear')\n",
      "\u001b[1;32m~\\anaconda3\\lib\\site-packages\\sklearn\\base.py\u001b[0m in \u001b[0;36m_validate_data\u001b[1;34m(self, X, y, reset, validate_separately, **check_params)\u001b[0m\n\u001b[0;32m    430\u001b[0m                 \u001b[0my\u001b[0m \u001b[1;33m=\u001b[0m \u001b[0mcheck_array\u001b[0m\u001b[1;33m(\u001b[0m\u001b[0my\u001b[0m\u001b[1;33m,\u001b[0m \u001b[1;33m**\u001b[0m\u001b[0mcheck_y_params\u001b[0m\u001b[1;33m)\u001b[0m\u001b[1;33m\u001b[0m\u001b[1;33m\u001b[0m\u001b[0m\n\u001b[0;32m    431\u001b[0m             \u001b[1;32melse\u001b[0m\u001b[1;33m:\u001b[0m\u001b[1;33m\u001b[0m\u001b[1;33m\u001b[0m\u001b[0m\n\u001b[1;32m--> 432\u001b[1;33m                 \u001b[0mX\u001b[0m\u001b[1;33m,\u001b[0m \u001b[0my\u001b[0m \u001b[1;33m=\u001b[0m \u001b[0mcheck_X_y\u001b[0m\u001b[1;33m(\u001b[0m\u001b[0mX\u001b[0m\u001b[1;33m,\u001b[0m \u001b[0my\u001b[0m\u001b[1;33m,\u001b[0m \u001b[1;33m**\u001b[0m\u001b[0mcheck_params\u001b[0m\u001b[1;33m)\u001b[0m\u001b[1;33m\u001b[0m\u001b[1;33m\u001b[0m\u001b[0m\n\u001b[0m\u001b[0;32m    433\u001b[0m             \u001b[0mout\u001b[0m \u001b[1;33m=\u001b[0m \u001b[0mX\u001b[0m\u001b[1;33m,\u001b[0m \u001b[0my\u001b[0m\u001b[1;33m\u001b[0m\u001b[1;33m\u001b[0m\u001b[0m\n\u001b[0;32m    434\u001b[0m \u001b[1;33m\u001b[0m\u001b[0m\n",
      "\u001b[1;32m~\\anaconda3\\lib\\site-packages\\sklearn\\utils\\validation.py\u001b[0m in \u001b[0;36minner_f\u001b[1;34m(*args, **kwargs)\u001b[0m\n\u001b[0;32m     71\u001b[0m                           FutureWarning)\n\u001b[0;32m     72\u001b[0m         \u001b[0mkwargs\u001b[0m\u001b[1;33m.\u001b[0m\u001b[0mupdate\u001b[0m\u001b[1;33m(\u001b[0m\u001b[1;33m{\u001b[0m\u001b[0mk\u001b[0m\u001b[1;33m:\u001b[0m \u001b[0marg\u001b[0m \u001b[1;32mfor\u001b[0m \u001b[0mk\u001b[0m\u001b[1;33m,\u001b[0m \u001b[0marg\u001b[0m \u001b[1;32min\u001b[0m \u001b[0mzip\u001b[0m\u001b[1;33m(\u001b[0m\u001b[0msig\u001b[0m\u001b[1;33m.\u001b[0m\u001b[0mparameters\u001b[0m\u001b[1;33m,\u001b[0m \u001b[0margs\u001b[0m\u001b[1;33m)\u001b[0m\u001b[1;33m}\u001b[0m\u001b[1;33m)\u001b[0m\u001b[1;33m\u001b[0m\u001b[1;33m\u001b[0m\u001b[0m\n\u001b[1;32m---> 73\u001b[1;33m         \u001b[1;32mreturn\u001b[0m \u001b[0mf\u001b[0m\u001b[1;33m(\u001b[0m\u001b[1;33m**\u001b[0m\u001b[0mkwargs\u001b[0m\u001b[1;33m)\u001b[0m\u001b[1;33m\u001b[0m\u001b[1;33m\u001b[0m\u001b[0m\n\u001b[0m\u001b[0;32m     74\u001b[0m     \u001b[1;32mreturn\u001b[0m \u001b[0minner_f\u001b[0m\u001b[1;33m\u001b[0m\u001b[1;33m\u001b[0m\u001b[0m\n\u001b[0;32m     75\u001b[0m \u001b[1;33m\u001b[0m\u001b[0m\n",
      "\u001b[1;32m~\\anaconda3\\lib\\site-packages\\sklearn\\utils\\validation.py\u001b[0m in \u001b[0;36mcheck_X_y\u001b[1;34m(X, y, accept_sparse, accept_large_sparse, dtype, order, copy, force_all_finite, ensure_2d, allow_nd, multi_output, ensure_min_samples, ensure_min_features, y_numeric, estimator)\u001b[0m\n\u001b[0;32m    794\u001b[0m         \u001b[1;32mraise\u001b[0m \u001b[0mValueError\u001b[0m\u001b[1;33m(\u001b[0m\u001b[1;34m\"y cannot be None\"\u001b[0m\u001b[1;33m)\u001b[0m\u001b[1;33m\u001b[0m\u001b[1;33m\u001b[0m\u001b[0m\n\u001b[0;32m    795\u001b[0m \u001b[1;33m\u001b[0m\u001b[0m\n\u001b[1;32m--> 796\u001b[1;33m     X = check_array(X, accept_sparse=accept_sparse,\n\u001b[0m\u001b[0;32m    797\u001b[0m                     \u001b[0maccept_large_sparse\u001b[0m\u001b[1;33m=\u001b[0m\u001b[0maccept_large_sparse\u001b[0m\u001b[1;33m,\u001b[0m\u001b[1;33m\u001b[0m\u001b[1;33m\u001b[0m\u001b[0m\n\u001b[0;32m    798\u001b[0m                     \u001b[0mdtype\u001b[0m\u001b[1;33m=\u001b[0m\u001b[0mdtype\u001b[0m\u001b[1;33m,\u001b[0m \u001b[0morder\u001b[0m\u001b[1;33m=\u001b[0m\u001b[0morder\u001b[0m\u001b[1;33m,\u001b[0m \u001b[0mcopy\u001b[0m\u001b[1;33m=\u001b[0m\u001b[0mcopy\u001b[0m\u001b[1;33m,\u001b[0m\u001b[1;33m\u001b[0m\u001b[1;33m\u001b[0m\u001b[0m\n",
      "\u001b[1;32m~\\anaconda3\\lib\\site-packages\\sklearn\\utils\\validation.py\u001b[0m in \u001b[0;36minner_f\u001b[1;34m(*args, **kwargs)\u001b[0m\n\u001b[0;32m     71\u001b[0m                           FutureWarning)\n\u001b[0;32m     72\u001b[0m         \u001b[0mkwargs\u001b[0m\u001b[1;33m.\u001b[0m\u001b[0mupdate\u001b[0m\u001b[1;33m(\u001b[0m\u001b[1;33m{\u001b[0m\u001b[0mk\u001b[0m\u001b[1;33m:\u001b[0m \u001b[0marg\u001b[0m \u001b[1;32mfor\u001b[0m \u001b[0mk\u001b[0m\u001b[1;33m,\u001b[0m \u001b[0marg\u001b[0m \u001b[1;32min\u001b[0m \u001b[0mzip\u001b[0m\u001b[1;33m(\u001b[0m\u001b[0msig\u001b[0m\u001b[1;33m.\u001b[0m\u001b[0mparameters\u001b[0m\u001b[1;33m,\u001b[0m \u001b[0margs\u001b[0m\u001b[1;33m)\u001b[0m\u001b[1;33m}\u001b[0m\u001b[1;33m)\u001b[0m\u001b[1;33m\u001b[0m\u001b[1;33m\u001b[0m\u001b[0m\n\u001b[1;32m---> 73\u001b[1;33m         \u001b[1;32mreturn\u001b[0m \u001b[0mf\u001b[0m\u001b[1;33m(\u001b[0m\u001b[1;33m**\u001b[0m\u001b[0mkwargs\u001b[0m\u001b[1;33m)\u001b[0m\u001b[1;33m\u001b[0m\u001b[1;33m\u001b[0m\u001b[0m\n\u001b[0m\u001b[0;32m     74\u001b[0m     \u001b[1;32mreturn\u001b[0m \u001b[0minner_f\u001b[0m\u001b[1;33m\u001b[0m\u001b[1;33m\u001b[0m\u001b[0m\n\u001b[0;32m     75\u001b[0m \u001b[1;33m\u001b[0m\u001b[0m\n",
      "\u001b[1;32m~\\anaconda3\\lib\\site-packages\\sklearn\\utils\\validation.py\u001b[0m in \u001b[0;36mcheck_array\u001b[1;34m(array, accept_sparse, accept_large_sparse, dtype, order, copy, force_all_finite, ensure_2d, allow_nd, ensure_min_samples, ensure_min_features, estimator)\u001b[0m\n\u001b[0;32m    618\u001b[0m             \u001b[1;31m# If input is 1D raise error\u001b[0m\u001b[1;33m\u001b[0m\u001b[1;33m\u001b[0m\u001b[1;33m\u001b[0m\u001b[0m\n\u001b[0;32m    619\u001b[0m             \u001b[1;32mif\u001b[0m \u001b[0marray\u001b[0m\u001b[1;33m.\u001b[0m\u001b[0mndim\u001b[0m \u001b[1;33m==\u001b[0m \u001b[1;36m1\u001b[0m\u001b[1;33m:\u001b[0m\u001b[1;33m\u001b[0m\u001b[1;33m\u001b[0m\u001b[0m\n\u001b[1;32m--> 620\u001b[1;33m                 raise ValueError(\n\u001b[0m\u001b[0;32m    621\u001b[0m                     \u001b[1;34m\"Expected 2D array, got 1D array instead:\\narray={}.\\n\"\u001b[0m\u001b[1;33m\u001b[0m\u001b[1;33m\u001b[0m\u001b[0m\n\u001b[0;32m    622\u001b[0m                     \u001b[1;34m\"Reshape your data either using array.reshape(-1, 1) if \"\u001b[0m\u001b[1;33m\u001b[0m\u001b[1;33m\u001b[0m\u001b[0m\n",
      "\u001b[1;31mValueError\u001b[0m: Expected 2D array, got 1D array instead:\narray=[-6.44919463e-03 -4.86574788e-03  3.84467491e-03 -6.48372667e-03\n  8.37015250e-05  4.78749303e-03 -5.47698606e-03 -6.24768995e-03\n -4.92127566e-03  7.03952461e-03 -7.20075704e-03 -2.94243870e-03\n  2.49006553e-03 -2.97569670e-03  1.22954766e-03  5.81780029e-03\n  6.44995482e-04  2.39688228e-03 -1.30235590e-03 -2.27511744e-03\n -8.85553382e-05 -7.71147851e-03  9.66342224e-04 -9.75726289e-04\n  1.35125527e-02  2.17120233e-03 -3.39118857e-03  1.21005194e-03\n  1.22184921e-02  8.32272787e-03 -7.01932237e-04  8.18643533e-03\n -7.28494488e-03  2.32055341e-03 -6.53453823e-03  8.35912488e-03\n  1.06068710e-02 -4.84854029e-03 -8.86216294e-03  5.80624957e-03\n -1.26822793e-03 -2.99557485e-03 -4.31758212e-03  2.83447164e-03\n -5.34134917e-03 -2.82279076e-03  2.19949634e-05 -1.08776158e-02\n  1.05558774e-02 -1.79661345e-02 -6.30994281e-03  8.85926187e-03\n -5.63711906e-03 -9.72403493e-03 -7.14420946e-03 -8.47204868e-03\n -2.51607783e-03  4.96489601e-03  4.58821515e-03  5.99292293e-03\n  8.32174346e-03  2.48182332e-03  8.73593090e-04  2.47788103e-03\n -2.72928923e-03 -1.17324316e-03  2.95935269e-03  2.33597634e-03\n -4.15698485e-03 -1.00139214e-03  5.73900947e-03  8.72343138e-04\n -6.28082966e-03 -6.74703298e-03  2.68336129e-03  6.21386897e-03\n  4.13901964e-03 -5.22938743e-03  1.57860573e-03 -1.39748245e-05\n  4.36257012e-03  1.53441157e-03 -8.95416364e-03  5.60096698e-03\n -9.16124787e-03  1.90252345e-03  7.67615065e-03  5.20171481e-04\n  7.31813663e-04 -5.24628861e-03 -8.53637978e-03 -5.70362108e-03\n -1.10321296e-02  1.00023148e-03  4.56724875e-03  4.35863709e-04\n  1.43527810e-03  1.98170566e-03  1.88102236e-03 -1.08022531e-02\n  3.35521484e-03 -5.53206122e-03  4.72141057e-03 -3.98253649e-03\n  3.02274642e-03 -4.78841411e-03 -9.11878143e-03  3.13154282e-03\n  1.31026609e-03 -7.42821349e-03 -1.99144706e-03 -7.28658913e-03\n -4.36161441e-04 -1.19499201e-02  4.62837052e-03  1.47236206e-04\n  8.97247437e-03 -1.62828946e-04 -9.14337521e-04  4.02575405e-03\n  1.61203396e-04  1.55513303e-03 -4.65423288e-03 -2.18189391e-03\n -2.42776820e-03  2.29380117e-03  6.13811472e-03 -4.62208781e-03\n -8.18245020e-03 -7.23042712e-03 -1.99611764e-03  8.39103386e-03\n -3.74156795e-03 -3.72179807e-03  8.28001462e-03 -4.30189725e-03\n  6.60121441e-03  6.29534805e-03 -3.66137805e-03  3.93617013e-03\n -8.86049028e-03 -9.41047724e-03 -9.02074762e-03 -2.48632394e-03\n -3.46155302e-03  6.02386985e-03  2.76621338e-03  1.05338043e-03\n  8.92974157e-03 -2.69650575e-03  9.77720134e-03 -6.35889778e-03\n -1.06052971e-02  3.90216545e-03  1.04018152e-02 -1.42812636e-03\n -4.86846315e-03 -2.83573085e-04  3.97125259e-03  6.46703271e-03\n  4.76972673e-05 -1.04060760e-02 -5.95233869e-03 -7.96384923e-03\n -6.92676986e-04  6.38062926e-03 -5.41250978e-04  8.99074506e-03\n  2.02461472e-03 -5.16446633e-03  4.51391563e-03  6.30202005e-03\n  1.57901552e-03  1.15502169e-02  2.14796118e-03  1.50053930e-02\n  3.11743846e-04 -5.52261481e-03 -7.61817396e-03 -2.92416359e-03\n -9.28931311e-03 -4.30664467e-03 -2.01973831e-03  1.77372973e-02\n  7.77671952e-03  5.91199845e-03  9.93875600e-03 -8.68673716e-03\n  1.12300394e-02 -2.18541594e-03 -2.24678568e-03  1.23618214e-04\n -4.40898631e-03 -6.68315031e-03 -2.60138535e-03 -1.68718677e-03\n -1.69962477e-02 -6.05232269e-03  2.45849276e-03  4.47308458e-03\n -6.01753406e-03  6.19231118e-03  4.92349314e-03 -8.76311958e-03\n  8.67771450e-03 -5.15112234e-03  3.34760151e-03 -1.00719735e-04\n -8.12160724e-05  2.44754157e-03  3.15897889e-03  1.12720868e-02\n -4.22236370e-03  1.05956858e-02  1.38560776e-03  7.25751277e-04\n  8.39959655e-04 -5.65505703e-04  9.55172256e-03 -1.38505967e-03\n  1.47329527e-03 -5.60571160e-03 -1.18236858e-02 -9.48491320e-03\n -2.96317390e-03 -6.90207072e-03 -1.01869763e-03  4.43033082e-03\n -5.81736723e-03  2.26628105e-03].\nReshape your data either using array.reshape(-1, 1) if your data has a single feature or array.reshape(1, -1) if it contains a single sample."
     ]
    }
   ],
   "source": [
    "from sklearn.linear_model import LogisticRegression\n",
    "from sklearn.model_selection import KFold\n",
    "\n",
    "X_train, X_test, y_train, y_test = train_test_split(X, y, test_size=0.3, random_state=31)\n",
    "\n",
    "print(\"Accuracy:\", get_score(LogisticRegression(), X_train, X_test, y_train, y_test))\n",
    "\n",
    "cv_score_lr = cross_val_score(LogisticRegression(), X, y, cv=5)\n",
    "\n",
    "print(\"\\nCross Validation Accuracy:\", (cv_score_lr.mean()))"
   ]
  },
  {
   "cell_type": "code",
   "execution_count": 41,
   "metadata": {},
   "outputs": [],
   "source": [
    "# from sklearn.metrics import classification_report\n",
    "\n",
    "# print(classification_report(y_test, y_predict_dt))"
   ]
  },
  {
   "cell_type": "code",
   "execution_count": 42,
   "metadata": {},
   "outputs": [
    {
     "name": "stdout",
     "output_type": "stream",
     "text": [
      "Accuracy: 0.16071428571428573\n",
      "\n",
      "Cross Validation Accuracy: 0.17025641025641028\n"
     ]
    }
   ],
   "source": [
    "from sklearn.ensemble import RandomForestClassifier\n",
    "from sklearn.model_selection import KFold\n",
    "\n",
    "X_train, X_test, y_train, y_test = train_test_split(X, y, test_size=0.34, random_state=31)\n",
    "\n",
    "print(\"Accuracy:\", get_score(RandomForestClassifier(), X_train, X_test, y_train, y_test))\n",
    "\n",
    "cv_score_rf = cross_val_score(RandomForestClassifier(), X, y, cv=5)\n",
    "\n",
    "print(\"\\nCross Validation Accuracy:\", (cv_score_rf.mean()))"
   ]
  },
  {
   "cell_type": "code",
   "execution_count": 43,
   "metadata": {},
   "outputs": [
    {
     "name": "stdout",
     "output_type": "stream",
     "text": [
      "Accuracy: 0.27906976744186046\n",
      "\n",
      "Cross Validation Accuracy: 0.2552913752913753\n"
     ]
    }
   ],
   "source": [
    "X_train, X_test, y_train, y_test = train_test_split(X, y, test_size=0.26, random_state=31)\n",
    "\n",
    "print(\"Accuracy:\", get_score(svm.SVC(), X_train, X_test, y_train, y_test))\n",
    "\n",
    "cv_score_svm = cross_val_score(svm.SVC(), X, y, cv=5)\n",
    "\n",
    "print(\"\\nCross Validation Accuracy:\", (cv_score_svm.mean()))"
   ]
  },
  {
   "cell_type": "code",
   "execution_count": 44,
   "metadata": {},
   "outputs": [],
   "source": [
    "# from sklearn.model_selection import StratifiedKFold\n",
    "# kf = StratifiedKFold(n_splits = 5)"
   ]
  },
  {
   "cell_type": "code",
   "execution_count": null,
   "metadata": {},
   "outputs": [],
   "source": []
  },
  {
   "cell_type": "code",
   "execution_count": null,
   "metadata": {},
   "outputs": [],
   "source": []
  }
 ],
 "metadata": {
  "anaconda-cloud": {},
  "kernelspec": {
   "display_name": "Python 3",
   "language": "python",
   "name": "python3"
  },
  "language_info": {
   "codemirror_mode": {
    "name": "ipython",
    "version": 3
   },
   "file_extension": ".py",
   "mimetype": "text/x-python",
   "name": "python",
   "nbconvert_exporter": "python",
   "pygments_lexer": "ipython3",
   "version": "3.8.3"
  }
 },
 "nbformat": 4,
 "nbformat_minor": 1
}
